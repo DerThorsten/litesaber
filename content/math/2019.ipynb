{
 "cells": [
  {
   "cell_type": "code",
   "execution_count": null,
   "id": "7cc3a487-3ad2-4724-ac57-16d7710d2c6f",
   "metadata": {},
   "outputs": [],
   "source": [
    "import matplotlib.pylab as plt\n",
    "import numpy as np\n",
    "import math\n",
    "from sympy.solvers import solve\n",
    "from sympy import Symbol\n",
    "from sympy.plotting import plot\n"
   ]
  },
  {
   "cell_type": "markdown",
   "id": "24c2d768-0f1f-4730-9a90-497d6fe5e7e4",
   "metadata": {
    "tags": []
   },
   "source": [
    "# 1.1\n",
    "loesen sie die Gleichung $x^4 + 2x^2 -16 = -1$"
   ]
  },
  {
   "cell_type": "code",
   "execution_count": null,
   "id": "7c660f90-ffec-44ea-885a-20a48fd04996",
   "metadata": {},
   "outputs": [],
   "source": [
    "x = Symbol('x')\n",
    "solve(x**4 + 2*x**2 - 15, x)"
   ]
  },
  {
   "cell_type": "code",
   "execution_count": null,
   "id": "c776732d-7191-43cc-a040-9daf051d3608",
   "metadata": {
    "jp-MarkdownHeadingCollapsed": true,
    "tags": []
   },
   "outputs": [],
   "source": [
    "# 1.2"
   ]
  },
  {
   "cell_type": "code",
   "execution_count": null,
   "id": "4fd08787-da6b-4519-b61b-f94648f7fe4f",
   "metadata": {},
   "outputs": [],
   "source": [
    "f =  -7.0 * (x-0.1)* (x-1.0) * (x-2.0) + 1\n",
    "plot(f,xlim=[-5,5],ylim=[-10,10])"
   ]
  },
  {
   "cell_type": "code",
   "execution_count": null,
   "id": "5bc3d4ab-f9c8-42ce-a37c-ea8085104b68",
   "metadata": {},
   "outputs": [],
   "source": [
    "# 1.3\n",
    "f = x**3 - 2*x**2 + 16\n",
    "g =  4*x + 8\n",
    "\n",
    "plot(f,g, ylim=[-30,30])"
   ]
  },
  {
   "cell_type": "code",
   "execution_count": null,
   "id": "c18f1b43-604c-4a74-b8ab-5f07efc558b5",
   "metadata": {},
   "outputs": [],
   "source": [
    "#1.4\n",
    "import sympy\n",
    "sympy.integrate(sympy.exp(0.25 * x), x)\n"
   ]
  },
  {
   "cell_type": "code",
   "execution_count": null,
   "id": "d5176a17-b807-4cda-a020-f876fc2f08f2",
   "metadata": {},
   "outputs": [],
   "source": [
    "sympy.integrate(sympy.exp(0.25 * x), (x, 0, 4*sympy.ln(2)))"
   ]
  },
  {
   "cell_type": "code",
   "execution_count": null,
   "id": "aeaa33cb-51e4-4724-9f5d-fb0d0b670b7b",
   "metadata": {},
   "outputs": [],
   "source": [
    "# 1.5\n",
    "# 1.3\n",
    "\n",
    "f = 2 * sympy.exp(-x) - 1\n",
    "plot(f, xlim=[-3,5],ylim=[-1,5])"
   ]
  },
  {
   "cell_type": "code",
   "execution_count": null,
   "id": "ecd824dc-aa8b-44f5-88ca-b1eabe6ac69b",
   "metadata": {},
   "outputs": [],
   "source": [
    "x = Symbol('x')\n",
    "solve(2*sympy.exp(-x)-1, x)"
   ]
  },
  {
   "cell_type": "code",
   "execution_count": null,
   "id": "02d13503-6552-4b30-823b-a73979bb252f",
   "metadata": {},
   "outputs": [],
   "source": [
    "-math.log(0.5)"
   ]
  },
  {
   "cell_type": "code",
   "execution_count": null,
   "id": "7f12a561-5e69-48e6-b7cc-51157c2840d2",
   "metadata": {},
   "outputs": [],
   "source": [
    "print(math.log(1)-math.log(2))\n",
    "math.log(2)"
   ]
  },
  {
   "cell_type": "code",
   "execution_count": null,
   "id": "699d574f-9e6b-47ee-8084-4660764b13d7",
   "metadata": {},
   "outputs": [],
   "source": [
    "def h(x):\n",
    "    return 3 * np.sin(x*math.pi)\n",
    "def g(x):\n",
    "    return (x-0.0)*(x-1.0)*(x-2.0)*(x-3.0)*(48.0/9.0)\n",
    "print(g(3/2))\n",
    "plot(h,g)"
   ]
  },
  {
   "cell_type": "code",
   "execution_count": null,
   "id": "f8620344-9983-4fbc-a814-535d06d06453",
   "metadata": {},
   "outputs": [],
   "source": [
    "# 2.1\n",
    "f = 2.0/27.0 * x**4  - 4.0/3.0 * x**2\n",
    "plot(f, xlim=[-5,5],ylim=[-8,5])"
   ]
  },
  {
   "cell_type": "code",
   "execution_count": null,
   "id": "61aa155d-5677-44f1-9b38-45b5ce9819d0",
   "metadata": {},
   "outputs": [],
   "source": [
    "x = Symbol('x')\n",
    "f = 2.0/27.0 * x**4  - 4.0/3.0 * x**2\n",
    "solve(f.diff().diff(), x)\n",
    "plot(f, f.diff(), f.diff().diff(), xlim=[-5,5],ylim=[-10,10])"
   ]
  },
  {
   "cell_type": "code",
   "execution_count": null,
   "id": "92071f2b-3fe0-458c-a993-570fb5c57708",
   "metadata": {},
   "outputs": [],
   "source": [
    "math.sqrt(3)"
   ]
  },
  {
   "cell_type": "code",
   "execution_count": null,
   "id": "87c3649c-a221-4162-8130-c1f14b426975",
   "metadata": {},
   "outputs": [],
   "source": [
    "108/3"
   ]
  },
  {
   "cell_type": "code",
   "execution_count": null,
   "id": "642544ff-f9e2-430f-99e5-1a0eb3286e41",
   "metadata": {},
   "outputs": [],
   "source": [
    "#2.3\n",
    "x = Symbol('x')\n",
    "f = 6 * sympy.exp(-sympy.Rational(1, 6)* x) - 3\n",
    "solve(f,x)"
   ]
  },
  {
   "cell_type": "code",
   "execution_count": null,
   "id": "dedef7a0-cb61-4c8e-ae37-23eda40d62d0",
   "metadata": {},
   "outputs": [],
   "source": [
    "print(math.log((3/6)**(-6)))\n",
    "\n",
    "print(math.log(64))"
   ]
  },
  {
   "cell_type": "code",
   "execution_count": null,
   "id": "a2148880-e022-4f53-a4a6-8a7f36020def",
   "metadata": {},
   "outputs": [],
   "source": [
    "sympy.integrate(f,x)"
   ]
  }
 ],
 "metadata": {
  "kernelspec": {
   "display_name": "Python 3 (ipykernel)",
   "language": "python",
   "name": "python3"
  },
  "language_info": {
   "codemirror_mode": {
    "name": "ipython",
    "version": 3
   },
   "file_extension": ".py",
   "mimetype": "text/x-python",
   "name": "python",
   "nbconvert_exporter": "python",
   "pygments_lexer": "ipython3",
   "version": "3.10.4"
  }
 },
 "nbformat": 4,
 "nbformat_minor": 5
}
